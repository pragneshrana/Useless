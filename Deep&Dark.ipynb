{
  "nbformat": 4,
  "nbformat_minor": 0,
  "metadata": {
    "colab": {
      "name": "Deep &Dark.ipynb",
      "provenance": [],
      "authorship_tag": "ABX9TyMOcnHETVySfnvP5TGqIr+y",
      "include_colab_link": true
    },
    "kernelspec": {
      "name": "python3",
      "display_name": "Python 3"
    }
  },
  "cells": [
    {
      "cell_type": "markdown",
      "metadata": {
        "id": "view-in-github",
        "colab_type": "text"
      },
      "source": [
        "<a href=\"https://colab.research.google.com/github/pragneshrana/Useless/blob/main/Deep%26Dark.ipynb\" target=\"_parent\"><img src=\"https://colab.research.google.com/assets/colab-badge.svg\" alt=\"Open In Colab\"/></a>"
      ]
    },
    {
      "cell_type": "markdown",
      "metadata": {
        "id": "b_Wr_Q_XsUlf"
      },
      "source": [
        "- Install tor\n",
        "- Open https://thehiddenwiki.org/blog/ Scroll N Joy\n",
        "- Find http://dirnxxdraygbifgc.onion/ or open in tor \n",
        "\n",
        "- Use Few search engines \n",
        "  - torch\n",
        "  - AHIMA - https://ahmia.fi/ (Use this)\n",
        "  - Candle etc etc etc\n",
        "\n",
        "- Email Providers\n",
        "  - Proton mail\n",
        "  - TorBox\n",
        "  - mail2tor\n",
        "\n",
        "- Social Network\n",
        "  - galaxy3\n",
        "  - facebook - http://facebookcorewwwi.onion/\n",
        "\n",
        "- ChatRoom\n",
        "  - Daniel's Chat\n",
        "  - cryptodog chatroom - try 'lobby'\n",
        "\n",
        "- DarkWeb Markets\n",
        "    - Empire Market\n",
        "    - wall st \n",
        "\n",
        "- DarkDirectory \n",
        "  - search darkdir 'Your guide to dark dir'\n",
        "\n",
        "- The onion crate \n",
        "  - search the onion crate and then open 'search the onion directory'\n",
        "\n",
        "- Blockchain wallet\n",
        "\n",
        "- Free bitcoin\n",
        "  - Cointiply\n",
        "  - Use cryptoweb browser\n",
        "  - right url that lists all sites to earn free bitcoins - bit.makejar.com\n",
        "  \n",
        "- webhosting\n",
        "  - daniel's hosting \n",
        "  - Tor hosting\n",
        "\n",
        "\n"
      ]
    }
  ]
}